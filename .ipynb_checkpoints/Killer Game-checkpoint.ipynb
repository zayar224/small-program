{
 "cells": [
  {
   "cell_type": "code",
   "execution_count": 5,
   "metadata": {},
   "outputs": [
    {
     "name": "stdout",
     "output_type": "stream",
     "text": [
      "[4, 10, 6, 10, 1]\n"
     ]
    }
   ],
   "source": [
    "import random\n",
    "import time\n",
    "\n",
    "## Note\n",
    "## The Killer Game Include 5 Player (Including Detective & Killer)\n",
    "\n",
    "# Start #\n",
    "playNum = []\n",
    "for i in range(0,5):\n",
    "    firstRan = random.randint(0,10)\n",
    "    playNum.append(firstRan)\n",
    "print(playNum)"
   ]
  },
  {
   "cell_type": "code",
   "execution_count": 6,
   "metadata": {},
   "outputs": [
    {
     "name": "stdout",
     "output_type": "stream",
     "text": [
      "{'first': 10, 'second': 6, 'third': 10, 'fourth': 1}\n",
      "{'first': 4, 'second': 10, 'third': 6, 'fourth': 10}\n"
     ]
    }
   ],
   "source": [
    "## Defining ##\n",
    "\n",
    "# For Detective #\n",
    "tpeople = {\"first\":playNum[1], \"second\":playNum[2], \"third\":playNum[3], \"fourth\":playNum[4]} #For Detective\n",
    "print(tpeople)\n",
    "\n",
    "killId = playNum.pop()\n",
    "deId = playNum[0]\n",
    "\n",
    "# For Killer #\n",
    "killdict = {\"first\":playNum[0], \"second\":playNum[1], \"third\":playNum[2], \"fourth\":playNum[3]}\n",
    "print(killdict)"
   ]
  },
  {
   "cell_type": "code",
   "execution_count": 7,
   "metadata": {},
   "outputs": [],
   "source": [
    "## To Restart The Game ##\n",
    "def restart1(back):\n",
    "    if back == \"Y\":\n",
    "        playNum.insert(0, deId)\n",
    "        killdict[\"first\"] = playNum[0]\n",
    "        return cSide(killId, deId)\n",
    "\n",
    "def restart2(back):\n",
    "    if back == \"Y\":\n",
    "        playNum.insert(3, killId)\n",
    "        tpeople[\"fourth\"] = playNum[3]\n",
    "        return cSide(killId, deId)"
   ]
  },
  {
   "cell_type": "code",
   "execution_count": 8,
   "metadata": {},
   "outputs": [
    {
     "name": "stdout",
     "output_type": "stream",
     "text": [
      "Choose What You Want To Be...\n",
      "Killer | Detective => Detective\n",
      "Proud Of You! You Have Responsibility To Save The People And Catch The Killer.\n",
      "As A Usual, We Have A Detective ID.\n",
      "Your Detective ID Number Is  4\n",
      "Let's Go Catch The Killer And Save People!!!!\n",
      "There is  4 people.\n",
      "Find The Number, Which One Number Will Be A Killer.\n",
      " fourth\n"
     ]
    },
    {
     "ename": "IndexError",
     "evalue": "list index out of range",
     "output_type": "error",
     "traceback": [
      "\u001b[1;31m---------------------------------------------------------------------------\u001b[0m",
      "\u001b[1;31mIndexError\u001b[0m                                Traceback (most recent call last)",
      "\u001b[1;32m<ipython-input-8-58c33b0e9ab8>\u001b[0m in \u001b[0;36m<module>\u001b[1;34m\u001b[0m\n\u001b[0;32m     77\u001b[0m \u001b[1;33m\u001b[0m\u001b[0m\n\u001b[0;32m     78\u001b[0m \u001b[1;33m\u001b[0m\u001b[0m\n\u001b[1;32m---> 79\u001b[1;33m \u001b[0mcSide\u001b[0m\u001b[1;33m(\u001b[0m\u001b[0mkillId\u001b[0m\u001b[1;33m,\u001b[0m \u001b[0mdeId\u001b[0m\u001b[1;33m)\u001b[0m\u001b[1;33m\u001b[0m\u001b[1;33m\u001b[0m\u001b[0m\n\u001b[0m",
      "\u001b[1;32m<ipython-input-8-58c33b0e9ab8>\u001b[0m in \u001b[0;36mcSide\u001b[1;34m(killId, deId)\u001b[0m\n\u001b[0;32m     24\u001b[0m             \u001b[0mtime\u001b[0m\u001b[1;33m.\u001b[0m\u001b[0msleep\u001b[0m\u001b[1;33m(\u001b[0m\u001b[1;36m2\u001b[0m\u001b[1;33m)\u001b[0m\u001b[1;33m\u001b[0m\u001b[1;33m\u001b[0m\u001b[0m\n\u001b[0;32m     25\u001b[0m             \u001b[0mprint\u001b[0m\u001b[1;33m(\u001b[0m\u001b[1;34m\"Let's Go Catch The Killer And Save People!!!!\"\u001b[0m\u001b[1;33m)\u001b[0m\u001b[1;33m\u001b[0m\u001b[1;33m\u001b[0m\u001b[0m\n\u001b[1;32m---> 26\u001b[1;33m             \u001b[0mDetFun\u001b[0m\u001b[1;33m(\u001b[0m\u001b[1;33m)\u001b[0m\u001b[1;33m\u001b[0m\u001b[1;33m\u001b[0m\u001b[0m\n\u001b[0m\u001b[0;32m     27\u001b[0m             \u001b[1;32mbreak\u001b[0m\u001b[1;33m\u001b[0m\u001b[1;33m\u001b[0m\u001b[0m\n\u001b[0;32m     28\u001b[0m \u001b[1;33m\u001b[0m\u001b[0m\n",
      "\u001b[1;32m<ipython-input-8-58c33b0e9ab8>\u001b[0m in \u001b[0;36mDetFun\u001b[1;34m()\u001b[0m\n\u001b[0;32m     71\u001b[0m                 \u001b[0mprint\u001b[0m\u001b[1;33m(\u001b[0m\u001b[1;34m\"Thanks For Playing Our Game.\"\u001b[0m\u001b[1;33m)\u001b[0m\u001b[1;33m\u001b[0m\u001b[1;33m\u001b[0m\u001b[0m\n\u001b[0;32m     72\u001b[0m                 \u001b[1;32mbreak\u001b[0m\u001b[1;33m\u001b[0m\u001b[1;33m\u001b[0m\u001b[0m\n\u001b[1;32m---> 73\u001b[1;33m         \u001b[1;32melif\u001b[0m \u001b[0md\u001b[0m \u001b[1;33m==\u001b[0m \u001b[0mplayNum\u001b[0m\u001b[1;33m[\u001b[0m\u001b[1;36m4\u001b[0m\u001b[1;33m]\u001b[0m\u001b[1;33m:\u001b[0m\u001b[1;33m\u001b[0m\u001b[1;33m\u001b[0m\u001b[0m\n\u001b[0m\u001b[0;32m     74\u001b[0m             \u001b[0mplayNum\u001b[0m\u001b[1;33m.\u001b[0m\u001b[0mremove\u001b[0m\u001b[1;33m(\u001b[0m\u001b[0md\u001b[0m\u001b[1;33m)\u001b[0m\u001b[1;33m\u001b[0m\u001b[1;33m\u001b[0m\u001b[0m\n\u001b[0;32m     75\u001b[0m             \u001b[0mprint\u001b[0m\u001b[1;33m(\u001b[0m\u001b[1;34m\"Congraz, You Win. You Got A Killer.\"\u001b[0m\u001b[1;33m)\u001b[0m\u001b[1;33m\u001b[0m\u001b[1;33m\u001b[0m\u001b[0m\n",
      "\u001b[1;31mIndexError\u001b[0m: list index out of range"
     ]
    }
   ],
   "source": [
    "## Start ##\n",
    "print(\"Choose What You Want To Be...\")\n",
    "def cSide(killId, deId):\n",
    "    while True:\n",
    "        side = input(\"Killer | Detective => \")\n",
    "        if side == \"Killer\":\n",
    "            print(\"Damn! Let's Kill People!!!\")\n",
    "            time.sleep(2)\n",
    "            print(\"Do You Know? We Killer Have Killer ID.\")\n",
    "            time.sleep(1)\n",
    "            print(\"I Will Give You A Killer ID.\")\n",
    "            time.sleep(1)\n",
    "            print(\"Your Killer ID is \", killId)\n",
    "            time.sleep(2)\n",
    "            print(\"Let's Kill!! But, Be Aware To Detective. Don't Get Caught!\")\n",
    "            KillFun()\n",
    "            break\n",
    "        elif side == \"Detective\":\n",
    "            print(\"Proud Of You! You Have Responsibility To Save The People And Catch The Killer.\")\n",
    "            time.sleep(1)\n",
    "            print(\"As A Usual, We Have A Detective ID.\")\n",
    "            time.sleep(1)\n",
    "            print(\"Your Detective ID Number Is \", deId)\n",
    "            time.sleep(2)\n",
    "            print(\"Let's Go Catch The Killer And Save People!!!!\")\n",
    "            DetFun()\n",
    "            break\n",
    "\n",
    "## Killer Kill Function ##\n",
    "def KillFun():\n",
    "    while True:\n",
    "        print(\"There is \", len(killdict) , \"people left.\")\n",
    "        time.sleep(1)\n",
    "        print(\"Who Do You Want To Kill?\")\n",
    "        kill = str(input(\" \"))\n",
    "        d = killdict.pop(kill)\n",
    "        \n",
    "        # The Win Or Lose Condition For Killer #\n",
    "        if d != deId:\n",
    "            playNum.remove(d)\n",
    "            print(\"One People Die. Now \", len(playNum), \"people left.\")\n",
    "            print(playNum)\n",
    "            if len(playNum) == 1 and playNum[0] == deId:\n",
    "                print(\"You Win\")\n",
    "                break\n",
    "        elif playNum.remove(deId) == None:\n",
    "            print(\"You Lose\")\n",
    "            back = input(\"Do You Want To Start Again? Y/N : \")\n",
    "            restart1(back)\n",
    "            break\n",
    "            if back == \"N\":\n",
    "                print(\"Thanks For Playing Our Game.\")\n",
    "                break\n",
    "\n",
    "## Detective Function ##\n",
    "def DetFun():\n",
    "    while True:\n",
    "        print(\"There is \", len(tpeople) , \"people.\")\n",
    "        time.sleep(1)\n",
    "        print(\"Find The Number, Which One Number Will Be A Killer.\")\n",
    "        kill = str(input(\" \"))\n",
    "        d = tpeople.pop(kill)\n",
    "        \n",
    "        # Win Or Lose Condition For Detective #\n",
    "        if d != killId:\n",
    "            print(\"You Lose\")\n",
    "            back = input(\"Do You Want To Start Again? Y/N : \")\n",
    "            restart2(back)\n",
    "            break\n",
    "            if back == \"N\":\n",
    "                print(\"Thanks For Playing Our Game.\")\n",
    "                break\n",
    "        elif d == killId:\n",
    "#             playNum.remove(d)\n",
    "            print(\"Congraz, You Win. You Got A Killer.\")\n",
    "            break\n",
    "\n",
    "\n",
    "cSide(killId, deId)"
   ]
  },
  {
   "cell_type": "code",
   "execution_count": null,
   "metadata": {},
   "outputs": [],
   "source": []
  }
 ],
 "metadata": {
  "kernelspec": {
   "display_name": "Python 3",
   "language": "python",
   "name": "python3"
  },
  "language_info": {
   "codemirror_mode": {
    "name": "ipython",
    "version": 3
   },
   "file_extension": ".py",
   "mimetype": "text/x-python",
   "name": "python",
   "nbconvert_exporter": "python",
   "pygments_lexer": "ipython3",
   "version": "3.8.0"
  }
 },
 "nbformat": 4,
 "nbformat_minor": 4
}
